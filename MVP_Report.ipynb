{
 "cells": [
  {
   "cell_type": "markdown",
   "metadata": {},
   "source": [
    "# Overview of Data Science Pipeline Within This Notebook"
   ]
  },
  {
   "cell_type": "markdown",
   "metadata": {},
   "source": [
    "## 1. Acquire\n",
    "The get_mvp_home_data() function within the Acquire module:\n",
    "Connects to the SQL database with env.py login credentials\n",
    "Checks if the data is already saved to csv file (has the function been run in the current working directory?)\n",
    "If no .csv file\n",
    "Connects to the Zillow Database\n",
    "Reads a sql query that selects the 4 features of single unit properties during May and June\n",
    "Saves to a csv, and returns the df\n",
    "If .csv file\n",
    "Returns df from the csv\n",
    "After acquiring the data, we can do univariate exploration:\n",
    "Describe the data\n",
    "Plot single variable histograms\n",
    "\n",
    "## 2. Prepare\n",
    "Within the Prepare module, the data is prepped by:\n",
    "Renaming columns\n",
    "Dropping uneeded id column\n",
    "Removing outliers using z-score to determine\n",
    "Splitting into train, validate, test\n",
    "Scaling the data\n",
    "\n",
    "## 3. Explore\n",
    "Once data is split, we can perform bivariate analysis on train\n",
    "Determine what features influence tax value more\n",
    "Hypothesis testing\n",
    "Plotting correlation\n",
    "Plotting bivariate analysis\n",
    "\n",
    "## 4. Modeling\n",
    "Create a baseline prediction of tax value\n",
    "Create models\n",
    "Fit models on train\n",
    "Use LinearRegression, LassoLars, Polynomial\n",
    "Ensure models not overfit, testing top 3 models on validate\n",
    "Simulate best model being run on future unseen data, test on test df\n",
    "\n",
    "## 5. Conclusions\n",
    "Conclude which model preforms best, which features have the highest influence on tax value, and what to do with this information"
   ]
  },
  {
   "cell_type": "markdown",
   "metadata": {},
   "source": [
    "# Imports "
   ]
  },
  {
   "cell_type": "code",
   "execution_count": 2,
   "metadata": {},
   "outputs": [
    {
     "name": "stdout",
     "output_type": "stream",
     "text": [
      "Imports Completed.\n"
     ]
    }
   ],
   "source": [
    "# Set up the notebook imports\n",
    "# Import modules\n",
    "import acquire\n",
    "import prepare\n",
    "\n",
    "import matplotlib.pyplot as plt\n",
    "import seaborn as sns\n",
    "import pandas as pd\n",
    "import numpy as np\n",
    "\n",
    "# Modeling Imports\n",
    "from sklearn.linear_model import LinearRegression\n",
    "from sklearn.feature_selection import RFE\n",
    "from sklearn.linear_model import LinearRegression, LassoLars\n",
    "from sklearn.preprocessing import PolynomialFeatures\n",
    "\n",
    "# Modeling Metrics\n",
    "from sklearn.metrics import mean_squared_error, explained_variance_score\n",
    "from scipy import stats\n",
    "\n",
    "# Ignore Warnings\n",
    "import warnings\n",
    "warnings.filterwarnings(\"ignore\")\n",
    "\n",
    "print('Imports Completed.')"
   ]
  },
  {
   "cell_type": "code",
   "execution_count": null,
   "metadata": {},
   "outputs": [],
   "source": []
  }
 ],
 "metadata": {
  "kernelspec": {
   "display_name": "Python 3",
   "language": "python",
   "name": "python3"
  },
  "language_info": {
   "codemirror_mode": {
    "name": "ipython",
    "version": 3
   },
   "file_extension": ".py",
   "mimetype": "text/x-python",
   "name": "python",
   "nbconvert_exporter": "python",
   "pygments_lexer": "ipython3",
   "version": "3.7.6"
  }
 },
 "nbformat": 4,
 "nbformat_minor": 4
}
